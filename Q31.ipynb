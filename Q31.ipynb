{
 "cells": [
  {
   "cell_type": "code",
   "execution_count": null,
   "metadata": {},
   "outputs": [],
   "source": [
    "def calculate():\n",
    "    TOTAL = 200\n",
    "    ways = [1] + [0] * TOTAL\n",
    "    for coin in [1, 2, 5, 10, 20, 50, 100, 200]:\n",
    "        for i in range(len(ways) - coin):\n",
    "            ways[i + coin] += ways[i]\n",
    "    return str(ways[-1])\n",
    "\n",
    "print(calculate())\n"
   ]
  },
  {
   "cell_type": "code",
   "execution_count": null,
   "metadata": {},
   "outputs": [],
   "source": []
  }
 ],
 "metadata": {
  "kernelspec": {
   "display_name": "Python 3",
   "language": "python",
   "name": "python3"
  },
  "language_info": {
   "codemirror_mode": {
    "name": "ipython",
    "version": 3
   },
   "file_extension": ".py",
   "mimetype": "text/x-python",
   "name": "python",
   "nbconvert_exporter": "python",
   "pygments_lexer": "ipython3",
   "version": "3.6.7"
  }
 },
 "nbformat": 4,
 "nbformat_minor": 2
}
