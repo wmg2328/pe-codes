{
 "cells": [
  {
   "cell_type": "code",
   "execution_count": null,
   "metadata": {},
   "outputs": [],
   "source": [
    "ONES = [\"zero\", \"one\", \"two\", \"three\", \"four\", \"five\", \"six\", \"seven\", \"eight\", \"nine\",\n",
    "        \"ten\", \"eleven\", \"twelve\", \"thirteen\", \"fourteen\", \"fifteen\", \"sixteen\", \"seventeen\", \"eighteen\", \"nineteen\"]\n",
    "TENS = [\"\", \"\", \"twenty\", \"thirty\", \"forty\", \"fifty\", \"sixty\", \"seventy\", \"eighty\", \"ninety\"]\n",
    "\n",
    "def get_english_word(n):\n",
    "    if 0 <= n < 20:\n",
    "        return ONES[n]\n",
    "    elif 20 <= n < 100:\n",
    "        return TENS[n // 10] + (ONES[n % 10] if(n % 10 != 0) else \"\")\n",
    "    elif 100 <= n < 1000:\n",
    "        return ONES[n // 100] + \"hundred\" + ((\"and\" + getEnglishWord(n % 100)) if (n % 100 != 0) else \"\")\n",
    "    elif 1000 <= n < 1000000:\n",
    "        return getEnglishWord(n // 1000) + \"thousand\" + (getEnglishWord(n % 1000) if (n % 1000 != 0) else \"\")\n",
    "    else:\n",
    "        return \"\"\n",
    "    \n",
    "def get_length():\n",
    "    answer = sum(len(get_english_word(i)) for i in range(1 ,1001))\n",
    "    return str(answer)\n",
    "\n",
    "print(getLength())\n"
   ]
  },
  {
   "cell_type": "code",
   "execution_count": null,
   "metadata": {},
   "outputs": [],
   "source": []
  }
 ],
 "metadata": {
  "kernelspec": {
   "display_name": "Python 3",
   "language": "python",
   "name": "python3"
  },
  "language_info": {
   "codemirror_mode": {
    "name": "ipython",
    "version": 3
   },
   "file_extension": ".py",
   "mimetype": "text/x-python",
   "name": "python",
   "nbconvert_exporter": "python",
   "pygments_lexer": "ipython3",
   "version": "3.6.7"
  }
 },
 "nbformat": 4,
 "nbformat_minor": 2
}
